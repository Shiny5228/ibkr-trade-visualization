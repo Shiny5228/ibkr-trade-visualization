{
 "cells": [
  {
   "cell_type": "code",
   "execution_count": null,
   "id": "0",
   "metadata": {},
   "outputs": [],
   "source": [
    "import json\n",
    "import os\n",
    "\n",
    "import pandas as pd\n",
    "from dotenv import load_dotenv\n",
    "\n",
    "from src.api_utils import get_statement, process_statement_data, send_request\n",
    "from src.transformations import (\n",
    "    add_cum_sum_rows,\n",
    "    filter_and_group_data,\n",
    "    get_filtered_data,\n",
    "    get_filtered_pcr,\n",
    ")\n",
    "from src.visualizations import create_initial_plot, generate_buttons\n",
    "\n",
    "pd.options.mode.copy_on_write = True"
   ]
  },
  {
   "cell_type": "code",
   "execution_count": null,
   "id": "1",
   "metadata": {},
   "outputs": [],
   "source": [
    "load_dotenv()\n",
    "token = os.getenv(\"TOKEN\")\n",
    "if token is None:\n",
    "    raise ValueError(\"Please set the TOKEN environment variable.\")\n",
    "query_id = os.getenv(\"QUERY_ID\")\n",
    "if query_id is None:\n",
    "    raise ValueError(\"Please set the QUERY_ID environment variable.\")\n",
    "flex_version = os.getenv(\"FLEX_VERSION\")\n",
    "if flex_version is None:\n",
    "    raise ValueError(\"Please set the FLEX_VERSION environment variable.\")\n",
    "headers_str = os.getenv(\"HEADERS\")\n",
    "if headers_str is None:\n",
    "    raise ValueError(\"Please set the HEADERS environment variable.\")\n",
    "headers = json.loads(headers_str)"
   ]
  },
  {
   "cell_type": "markdown",
   "id": "2",
   "metadata": {},
   "source": [
    "### Get Statement from IB via API"
   ]
  },
  {
   "cell_type": "code",
   "execution_count": null,
   "id": "3",
   "metadata": {},
   "outputs": [],
   "source": [
    "# API Calls\n",
    "reference_code = send_request(token, query_id, flex_version, headers)\n",
    "df = get_statement(token, reference_code, flex_version, headers)\n",
    "\n",
    "# Process Data\n",
    "df = process_statement_data(df)"
   ]
  },
  {
   "cell_type": "markdown",
   "id": "4",
   "metadata": {},
   "source": [
    "### Visualize Results"
   ]
  },
  {
   "cell_type": "code",
   "execution_count": null,
   "id": "5",
   "metadata": {},
   "outputs": [],
   "source": [
    "# filtered_df is needed for PCR later\n",
    "filtered_df, grouped_df = filter_and_group_data(\n",
    "    df,\n",
    "    assets_to_include=None,\n",
    "    symbols_to_include=[\"SPX\"],\n",
    "    notes_to_exclude=[\"Ex\", \"A\"],\n",
    "    dates_to_exclude=[\"20250102\"],\n",
    ")"
   ]
  },
  {
   "cell_type": "code",
   "execution_count": null,
   "id": "6",
   "metadata": {},
   "outputs": [],
   "source": [
    "grouped_df = add_cum_sum_rows(grouped_df)\n",
    "grouped_df"
   ]
  },
  {
   "cell_type": "code",
   "execution_count": null,
   "id": "7",
   "metadata": {},
   "outputs": [],
   "source": [
    "buttons = generate_buttons(grouped_df, get_filtered_data)"
   ]
  },
  {
   "cell_type": "code",
   "execution_count": null,
   "id": "8",
   "metadata": {},
   "outputs": [],
   "source": [
    "fig = create_initial_plot(grouped_df, buttons)\n",
    "fig"
   ]
  },
  {
   "cell_type": "markdown",
   "id": "9",
   "metadata": {},
   "source": [
    "### PCR"
   ]
  },
  {
   "cell_type": "code",
   "execution_count": null,
   "id": "10",
   "metadata": {},
   "outputs": [],
   "source": [
    "result = get_filtered_pcr(filtered_df, \"total\")"
   ]
  },
  {
   "cell_type": "code",
   "execution_count": null,
   "id": "11",
   "metadata": {},
   "outputs": [],
   "source": [
    "for w in sorted(grouped_df[\"week\"].unique()):\n",
    "    print(f\"Woche {w}\")\n",
    "    result = get_filtered_pcr(filtered_df, \"week\", w)"
   ]
  },
  {
   "cell_type": "code",
   "execution_count": null,
   "id": "12",
   "metadata": {},
   "outputs": [],
   "source": []
  }
 ],
 "metadata": {
  "kernelspec": {
   "display_name": ".venv",
   "language": "python",
   "name": "python3"
  },
  "language_info": {
   "codemirror_mode": {
    "name": "ipython",
    "version": 3
   },
   "file_extension": ".py",
   "mimetype": "text/x-python",
   "name": "python",
   "nbconvert_exporter": "python",
   "pygments_lexer": "ipython3",
   "version": "3.13.3"
  }
 },
 "nbformat": 4,
 "nbformat_minor": 5
}

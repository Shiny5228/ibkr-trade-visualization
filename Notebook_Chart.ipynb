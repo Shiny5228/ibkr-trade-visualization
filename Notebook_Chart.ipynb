{
 "cells": [
  {
   "cell_type": "code",
   "execution_count": null,
   "id": "0",
   "metadata": {},
   "outputs": [],
   "source": [
    "import json\n",
    "import os\n",
    "\n",
    "import pandas as pd\n",
    "from dotenv import load_dotenv\n",
    "\n",
    "from src.api_utils import get_statement, process_statement_data, send_request\n",
    "from src.transformations import (\n",
    "    add_cum_sum_rows,\n",
    "    get_filtered_data,\n",
    "    get_filtered_pcr,\n",
    "    transform,\n",
    ")\n",
    "from src.visualizations import create_initial_plot, generate_buttons\n",
    "\n",
    "pd.options.mode.copy_on_write = True"
   ]
  },
  {
   "cell_type": "code",
   "execution_count": null,
   "id": "1",
   "metadata": {},
   "outputs": [],
   "source": [
    "load_dotenv()\n",
    "token = os.getenv(\"TOKEN\")\n",
    "if token is None:\n",
    "    raise ValueError(\"Please set the TOKEN environment variable.\")\n",
    "query_id = os.getenv(\"QUERY_ID\")\n",
    "if query_id is None:\n",
    "    raise ValueError(\"Please set the QUERY_ID environment variable.\")\n",
    "flex_version = os.getenv(\"FLEX_VERSION\")\n",
    "if flex_version is None:\n",
    "    raise ValueError(\"Please set the FLEX_VERSION environment variable.\")\n",
    "headers_str = os.getenv(\"HEADERS\")\n",
    "if headers_str is None:\n",
    "    raise ValueError(\"Please set the HEADERS environment variable.\")\n",
    "headers = json.loads(headers_str)"
   ]
  },
  {
   "cell_type": "markdown",
   "id": "2",
   "metadata": {},
   "source": [
    "### Get Statement from IB via API"
   ]
  },
  {
   "cell_type": "code",
   "execution_count": null,
   "id": "3",
   "metadata": {},
   "outputs": [],
   "source": [
    "# API Calls\n",
    "reference_code = send_request(token, query_id, flex_version, headers)\n",
    "df = get_statement(token, reference_code, flex_version, headers)\n",
    "\n",
    "# Process Data\n",
    "df = process_statement_data(df)"
   ]
  },
  {
   "cell_type": "code",
   "execution_count": null,
   "id": "4",
   "metadata": {},
   "outputs": [],
   "source": [
    "df_transformed = transform(df)"
   ]
  },
  {
   "cell_type": "code",
   "execution_count": null,
   "id": "5",
   "metadata": {},
   "outputs": [],
   "source": [
    "pd.set_option(\"display.max_rows\", None)\n",
    "df_transformed.head(500)"
   ]
  },
  {
   "cell_type": "markdown",
   "id": "6",
   "metadata": {},
   "source": [
    "### Visualize Results"
   ]
  },
  {
   "cell_type": "code",
   "execution_count": null,
   "id": "7",
   "metadata": {},
   "outputs": [],
   "source": [
    "# filtered_df is needed for PCR later\n",
    "filtered_df, grouped_df = filter_and_group_data(\n",
    "    df,\n",
    "    assets_to_include=[\"OPT\", \"FOP\"],\n",
    "    symbols_to_include=None,\n",
    "    dates_to_exclude=None,\n",
    ")"
   ]
  },
  {
   "cell_type": "code",
   "execution_count": null,
   "id": "8",
   "metadata": {},
   "outputs": [],
   "source": [
    "filtered_df.head(200)"
   ]
  },
  {
   "cell_type": "code",
   "execution_count": null,
   "id": "9",
   "metadata": {},
   "outputs": [],
   "source": [
    "grouped_df = add_cum_sum_rows(grouped_df)\n",
    "grouped_df"
   ]
  },
  {
   "cell_type": "code",
   "execution_count": null,
   "id": "10",
   "metadata": {},
   "outputs": [],
   "source": [
    "buttons, buttons_asset, buttons_symbol = generate_buttons(grouped_df, get_filtered_data)"
   ]
  },
  {
   "cell_type": "code",
   "execution_count": null,
   "id": "11",
   "metadata": {},
   "outputs": [],
   "source": [
    "fig = create_initial_plot(grouped_df, buttons, buttons_asset, buttons_symbol)\n",
    "fig"
   ]
  },
  {
   "cell_type": "markdown",
   "id": "12",
   "metadata": {},
   "source": [
    "### PCR"
   ]
  },
  {
   "cell_type": "code",
   "execution_count": null,
   "id": "13",
   "metadata": {},
   "outputs": [],
   "source": [
    "result = get_filtered_pcr(filtered_df, \"total\")"
   ]
  },
  {
   "cell_type": "code",
   "execution_count": null,
   "id": "14",
   "metadata": {},
   "outputs": [],
   "source": [
    "for w in sorted(grouped_df[\"week\"].unique()):\n",
    "    print(f\"Woche {w}\")\n",
    "    result = get_filtered_pcr(filtered_df, \"week\", w)"
   ]
  },
  {
   "cell_type": "code",
   "execution_count": null,
   "id": "15",
   "metadata": {},
   "outputs": [],
   "source": [
    "import pandas as pd\n",
    "import plotly.graph_objects as go\n",
    "\n",
    "# Beispiel-DataFrame (ersetzen Sie dies durch Ihre tatsächlichen Daten)\n",
    "data = {\n",
    "    \"assetCategory\": [\"A\", \"A\", \"B\", \"B\", \"C\", \"C\"],\n",
    "    \"underlyingSymbol\": [\"X\", \"Y\", \"X\", \"Z\", \"Y\", \"Z\"],\n",
    "    \"value\": [10, 15, 13, 17, 20, 12],\n",
    "}\n",
    "df = pd.DataFrame(data)\n",
    "\n",
    "\n",
    "# Funktion zum Erstellen von Filterbuttons\n",
    "def create_filter_buttons(df, column):\n",
    "    buttons = []\n",
    "    for value in df[column].unique():\n",
    "        buttons.append(\n",
    "            dict(label=value, method=\"update\", args=[{\"visible\": df[column] == value}])\n",
    "        )\n",
    "    return buttons\n",
    "\n",
    "\n",
    "# Erstellen von Buttons für assetCategory\n",
    "asset_category_buttons = create_filter_buttons(df, \"assetCategory\")\n",
    "\n",
    "# Erstellen von Buttons für underlyingSymbol\n",
    "underlying_symbol_buttons = create_filter_buttons(df, \"underlyingSymbol\")\n",
    "\n",
    "# Erstellen der Figur\n",
    "fig = go.Figure(data=[go.Bar(x=df[\"assetCategory\"], y=df[\"value\"])])\n",
    "\n",
    "# Hinzufügen der Updatemenüs zum Layout\n",
    "fig.update_layout(\n",
    "    updatemenus=[\n",
    "        dict(\n",
    "            buttons=asset_category_buttons,\n",
    "            direction=\"down\",\n",
    "            pad={\"r\": 10, \"t\": 10},\n",
    "            showactive=True,\n",
    "            x=0.1,\n",
    "            xanchor=\"left\",\n",
    "            y=1.2,\n",
    "            yanchor=\"top\",\n",
    "        ),\n",
    "        dict(\n",
    "            buttons=underlying_symbol_buttons,\n",
    "            direction=\"down\",\n",
    "            pad={\"r\": 10, \"t\": 10},\n",
    "            showactive=True,\n",
    "            x=0.5,\n",
    "            xanchor=\"left\",\n",
    "            y=1.2,\n",
    "            yanchor=\"top\",\n",
    "        ),\n",
    "    ]\n",
    ")\n",
    "\n",
    "# Layout-Anpassungen\n",
    "fig.update_layout(title_text=\"Diagramm mit Filterbuttons\", showlegend=False)\n",
    "\n",
    "fig.show()\n"
   ]
  }
 ],
 "metadata": {
  "kernelspec": {
   "display_name": ".venv",
   "language": "python",
   "name": "python3"
  },
  "language_info": {
   "codemirror_mode": {
    "name": "ipython",
    "version": 3
   },
   "file_extension": ".py",
   "mimetype": "text/x-python",
   "name": "python",
   "nbconvert_exporter": "python",
   "pygments_lexer": "ipython3",
   "version": "3.13.3"
  }
 },
 "nbformat": 4,
 "nbformat_minor": 5
}

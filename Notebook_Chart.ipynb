{
 "cells": [
  {
   "cell_type": "code",
   "execution_count": null,
   "id": "0",
   "metadata": {},
   "outputs": [],
   "source": [
    "import json\n",
    "import os\n",
    "\n",
    "import pandas as pd\n",
    "from dotenv import load_dotenv\n",
    "\n",
    "from src.api_utils import get_statement, process_statement_data, send_request\n",
    "from src.transformations import transform,\n",
    "\n",
    "pd.options.mode.copy_on_write = True"
   ]
  },
  {
   "cell_type": "code",
   "execution_count": null,
   "id": "1",
   "metadata": {},
   "outputs": [],
   "source": [
    "load_dotenv()\n",
    "token = os.getenv(\"TOKEN\")\n",
    "if token is None:\n",
    "    raise ValueError(\"Please set the TOKEN environment variable.\")\n",
    "query_id = os.getenv(\"QUERY_ID\")\n",
    "if query_id is None:\n",
    "    raise ValueError(\"Please set the QUERY_ID environment variable.\")\n",
    "flex_version = os.getenv(\"FLEX_VERSION\")\n",
    "if flex_version is None:\n",
    "    raise ValueError(\"Please set the FLEX_VERSION environment variable.\")\n",
    "headers_str = os.getenv(\"HEADERS\")\n",
    "if headers_str is None:\n",
    "    raise ValueError(\"Please set the HEADERS environment variable.\")\n",
    "headers = json.loads(headers_str)"
   ]
  },
  {
   "cell_type": "markdown",
   "id": "2",
   "metadata": {},
   "source": [
    "### Get Statement from IB via API"
   ]
  },
  {
   "cell_type": "code",
   "execution_count": null,
   "id": "3",
   "metadata": {},
   "outputs": [],
   "source": [
    "# API Calls\n",
    "reference_code = send_request(token, query_id, flex_version, headers)\n",
    "df = get_statement(token, reference_code, flex_version, headers)\n",
    "\n",
    "# Process Data\n",
    "df = process_statement_data(df)"
   ]
  },
  {
   "cell_type": "code",
   "execution_count": null,
   "id": "4",
   "metadata": {},
   "outputs": [],
   "source": [
    "df_transformed = transform(df)"
   ]
  },
  {
   "cell_type": "code",
   "execution_count": null,
   "id": "5",
   "metadata": {},
   "outputs": [],
   "source": [
    "pd.set_option(\"display.max_rows\", None)\n",
    "df_transformed.head(10)"
   ]
  },
  {
   "cell_type": "code",
   "execution_count": null,
   "id": "6",
   "metadata": {},
   "outputs": [],
   "source": [
    "trade_pnl_sum = df_transformed.groupby(\"opendateTime\")[\"PnLRealized\"].sum()\n",
    "wins = (trade_pnl_sum > 0).sum()\n",
    "total_trades = len(trade_pnl_sum)\n",
    "win_rate = (wins / total_trades * 100) if total_trades > 0 else 0\n",
    "print(wins, total_trades, win_rate)"
   ]
  },
  {
   "cell_type": "code",
   "execution_count": null,
   "id": "7",
   "metadata": {},
   "outputs": [],
   "source": [
    "trade_pnl_sum.head(10)"
   ]
  },
  {
   "cell_type": "code",
   "execution_count": null,
   "id": "8",
   "metadata": {},
   "outputs": [],
   "source": [
    "trade_pnl_sum = filtered_df_transformed.groupby(\"opendateTime\")[\"PnLRealized\"].sum()\n",
    "wins = (trade_pnl_sum > 0).sum()\n",
    "total_trades = len(trade_pnl_sum)\n",
    "win_rate = (wins / total_trades * 100) if total_trades > 0 else 0\n",
    "print(wins, total_trades, win_rate)"
   ]
  },
  {
   "cell_type": "code",
   "execution_count": null,
   "id": "9",
   "metadata": {},
   "outputs": [],
   "source": [
    "trade_pnl_sum.head(20)"
   ]
  },
  {
   "cell_type": "code",
   "execution_count": null,
   "id": "10",
   "metadata": {},
   "outputs": [],
   "source": [
    "wins = (filtered_df_transformed[\"PnLRealized\"] > 0).sum()\n",
    "total_trades = len(filtered_df_transformed)\n",
    "win_rate = (wins / total_trades * 100) if total_trades > 0 else 0\n",
    "print(wins)\n",
    "print(total_trades)\n",
    "print(win_rate)"
   ]
  },
  {
   "cell_type": "code",
   "execution_count": null,
   "id": "11",
   "metadata": {},
   "outputs": [],
   "source": [
    "sum_cost = abs(filtered_df_transformed[\"cost\"].sum()).round(2)\n",
    "sum_realized = filtered_df_transformed[\"PnLRealized\"].sum().round(2)\n",
    "pcr = (sum_realized / sum_cost * 100).round(2) if sum_cost != 0 else 0\n",
    "print(sum_cost)\n",
    "print(sum_realized)\n",
    "print(pcr)"
   ]
  }
 ],
 "metadata": {
  "kernelspec": {
   "display_name": ".venv",
   "language": "python",
   "name": "python3"
  },
  "language_info": {
   "codemirror_mode": {
    "name": "ipython",
    "version": 3
   },
   "file_extension": ".py",
   "mimetype": "text/x-python",
   "name": "python",
   "nbconvert_exporter": "python",
   "pygments_lexer": "ipython3",
   "version": "3.13.3"
  }
 },
 "nbformat": 4,
 "nbformat_minor": 5
}
